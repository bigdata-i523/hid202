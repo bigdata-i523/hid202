{
 "cells": [
  {
   "cell_type": "code",
   "execution_count": 1,
   "metadata": {},
   "outputs": [],
   "source": [
    "import numpy as np # always handy\n",
    "import scipy as sp # the module of interest\n",
    "from scipy import stats # refer directly to stats rather than sp.stats\n",
    "import matplotlib as mpl # for visualization\n",
    "from matplotlib import pyplot as plt # refer directly to pyplot rather than mpl.pyplot"
   ]
  },
  {
   "cell_type": "code",
   "execution_count": 2,
   "metadata": {},
   "outputs": [],
   "source": [
    "s = sp.randn(100)"
   ]
  },
  {
   "cell_type": "code",
   "execution_count": 3,
   "metadata": {},
   "outputs": [
    {
     "name": "stdout",
     "output_type": "stream",
     "text": [
      "There are 100 elements in the set\n"
     ]
    }
   ],
   "source": [
    "print 'There are',len(s),'elements in the set'"
   ]
  },
  {
   "cell_type": "code",
   "execution_count": 4,
   "metadata": {},
   "outputs": [
    {
     "data": {
      "image/png": "[encoded data removed]",
      "text/plain": [
       "<matplotlib.figure.Figure at 0x7fd224d4b8d0>"
      ]
     },
     "metadata": {},
     "output_type": "display_data"
    }
   ],
   "source": [
    "plt.hist(s) # yes, one line of code for a histogram\n",
    "plt.show()"
   ]
  },
  {
   "cell_type": "code",
   "execution_count": 5,
   "metadata": {},
   "outputs": [],
   "source": [
    "\n",
    "\n",
    "import random\n",
    "\n",
    "def F(x):\n",
    "    return 2*x - 2\n",
    "\n",
    "def add_noise(x):\n",
    "    return x + random.uniform(-1,1)\n",
    "\n"
   ]
  },
  {
   "cell_type": "code",
   "execution_count": 6,
   "metadata": {},
   "outputs": [
    {
     "data": {
      "image/png": "[encoded data removed]",
      "text/plain": [
       "<matplotlib.figure.Figure at 0x7fd222a06b50>"
      ]
     },
     "metadata": {},
     "output_type": "display_data"
    }
   ],
   "source": [
    "X = range(0,10,1)\n",
    "\n",
    "# the fancy functional programming way\n",
    "Y = map(lambda x: add_noise(F(x)),X)\n",
    "\n",
    "# alternatively:\n",
    "Y = []\n",
    "for i in xrange(len(X)):\n",
    "    Y.append(add_noise(X[i]))\n",
    "    \n",
    "plt.clf() # clear out the old figure\n",
    "plt.plot(X,Y,'.')\n",
    "plt.show()"
   ]
  },
  {
   "cell_type": "code",
   "execution_count": 7,
   "metadata": {},
   "outputs": [],
   "source": [
    "m, b, r, p, est_std_err = stats.linregress(X,Y)"
   ]
  },
  {
   "cell_type": "code",
   "execution_count": 8,
   "metadata": {},
   "outputs": [
    {
     "name": "stdout",
     "output_type": "stream",
     "text": [
      "The slope is 1.00617551261 and the y-intercept is -0.276540529245\n"
     ]
    }
   ],
   "source": [
    "print 'The slope is',m,'and the y-intercept is',b"
   ]
  },
  {
   "cell_type": "code",
   "execution_count": 9,
   "metadata": {},
   "outputs": [],
   "source": [
    "def Fprime(x): # the fitted curve\n",
    "    return m*x + b"
   ]
  },
  {
   "cell_type": "code",
   "execution_count": 10,
   "metadata": {},
   "outputs": [],
   "source": [
    "X = range(0,10,1)\n",
    "Yprime = map(lambda x: Fprime(x),X)"
   ]
  },
  {
   "cell_type": "code",
   "execution_count": 11,
   "metadata": {},
   "outputs": [
    {
     "data": {
      "text/plain": [
       "<matplotlib.legend.Legend at 0x7fd222935cd0>"
      ]
     },
     "execution_count": 11,
     "metadata": {},
     "output_type": "execute_result"
    }
   ],
   "source": [
    "\n",
    "\n",
    "plt.clf() # clear out the old figure\n",
    "\n",
    "# the observed points\n",
    "plt.plot(X,Y,'.', # blue dots\n",
    "    label='observed points') # for the legend\n",
    "         \n",
    "# the interpolated curve\n",
    "plt.plot(X,Yprime,'r-', # connected red line\n",
    "    label='estimated points')  # for the legend\n",
    "\n",
    "plt.title(\"Linear Regression Example\") # title\n",
    "plt.xlabel(\"x\") # horizontal axis title\n",
    "plt.ylabel(\"y\") # vertical axis title\n",
    "plt.legend(['obsered points','estimated points']) # legend labels to plot\n",
    "\n",
    "# comment out so that you can save the figure\n",
    "#plt.show()\n",
    "\n"
   ]
  },
  {
   "cell_type": "code",
   "execution_count": 12,
   "metadata": {},
   "outputs": [],
   "source": [
    "plt.savefig('Regression.png') # save locally"
   ]
  },
  {
   "cell_type": "code",
   "execution_count": null,
   "metadata": {},
   "outputs": [],
   "source": [
    "plt.show()"
   ]
  }
 ],
 "metadata": {
  "kernelspec": {
   "display_name": "Python 2",
   "language": "python",
   "name": "python2"
  },
  "language_info": {
   "codemirror_mode": {
    "name": "ipython",
    "version": 2
   },
   "file_extension": ".py",
   "mimetype": "text/x-python",
   "name": "python",
   "nbconvert_exporter": "python",
   "pygments_lexer": "ipython2",
   "version": "2.7.13"
  }
 },
 "nbformat": 4,
 "nbformat_minor": 2
}
